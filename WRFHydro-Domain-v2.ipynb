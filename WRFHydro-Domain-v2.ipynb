{
 "cells": [
  {
   "cell_type": "markdown",
   "metadata": {},
   "source": [
    "# Notebook 1: Subsetting the National Water Model domain input files\n",
    "\n",
    "    \n",
    "Authors: Tony Castronova <acastronova@cuahsi.org>  \n",
    "&nbsp;&nbsp;&nbsp;&nbsp;&nbsp;&nbsp;&nbsp;&nbsp;&nbsp;&nbsp;&nbsp;&nbsp;&nbsp;&nbsp;&nbsp;Danielle Tijerina <dtijerina@cuahsi.org>  \n",
    "Date Modified: 06/20/2019  \n",
    "Affiliation: CUAHSI\n"
   ]
  },
  {
   "cell_type": "markdown",
   "metadata": {},
   "source": [
    "## 1. Goal\n",
    "This notebook will walk you through the process of subsetting a portion of the National Water Model Hydro-Fabric for an area of interest that can be used to execute a WRF-Hydro simulation. This will include:\n",
    "1. going to subset.cuahsi.org\n",
    "2. selecting location of interest and request subset\n",
    "3. downloading data via wget\n",
    "4. inspecting the content\n"
   ]
  },
  {
   "cell_type": "markdown",
   "metadata": {},
   "source": [
    "## 2. Background\n",
    "The purpose of this application is to introduce a collaborative effort for preparing, publishing, and sharing subsets of the National Water Model input data and geo-fabric at watershed scales. Our hope is that these efforts will lower the barrier of entry for using and applying these models and engage a wide variety scientists from a diverse spectrum of expertise. With a combination of modern cyberinfrastructure techniques and state-of-the-science modeling tools, researchers will have access to subsets of National Water Model information that would otherwise require extensive computational resources. This work provides the foundation onto which similar efforts can be applied to other large-scale model simulations and input data."
   ]
  },
  {
   "cell_type": "markdown",
   "metadata": {},
   "source": [
    "## 3. Subsetting Exercise"
   ]
  },
  {
   "cell_type": "code",
   "execution_count": null,
   "metadata": {},
   "outputs": [],
   "source": [
    "pip install python3-wget"
   ]
  },
  {
   "cell_type": "code",
   "execution_count": null,
   "metadata": {},
   "outputs": [],
   "source": [
    "# import Python libraries \n",
    "\n",
    "import os\n",
    "import wget\n",
    "import glob\n",
    "import shutil\n",
    "import tarfile\n"
   ]
  },
  {
   "cell_type": "markdown",
   "metadata": {},
   "source": [
    "### Step 1.  \n",
    "Go to http://subset.cuahsi.org/, select an area of interest, and click submit to run the subsetter. If you know your bounding box of interest, the subsetter can be invoked programatically using REST web services: http://subset.cuahsi.org/api."
   ]
  },
  {
   "cell_type": "markdown",
   "metadata": {},
   "source": [
    "### Step 2.  \n",
    "When the job is complete (~5min), you'll be presented with a link. Specify the URL of the DOMAIN that was subsetted in step 1 below, for example: http://subset.cuahsi.org/data/7c3b61d79999e5b8b96dab41b0b12d0b6975c166.tar.gz"
   ]
  },
  {
   "cell_type": "code",
   "execution_count": null,
   "metadata": {},
   "outputs": [],
   "source": [
    "domain_archive = input(\"Enter link to domain: \")\n",
    "archive_name = domain_archive.split('/')[-1]\n",
    "guid = archive_name.split('.')[0]                       "
   ]
  },
  {
   "cell_type": "markdown",
   "metadata": {},
   "source": [
    "### Step 3. \n",
    "Run the following cells to download your subset data and move it into a directory called `DOMAIN`"
   ]
  },
  {
   "cell_type": "code",
   "execution_count": null,
   "metadata": {},
   "outputs": [],
   "source": [
    "domain_dir = 'DOMAIN'\n",
    "if os.path.exists(domain_dir):\n",
    "    while 1:\n",
    "        res = input(\"Directory 'DOMAIN' already exists. Do you wish to remove it [Y/N]?\")\n",
    "        if res.lower() == 'y':\n",
    "            shutil.rmtree(domain_dir)\n",
    "            os.mkdir(domain_dir)\n",
    "            break\n",
    "        elif res.lower() == 'n':\n",
    "            break\n",
    "        else:\n",
    "            print('\\nInvalid input. Please answer either Y or N')\n",
    "else:\n",
    "    os.mkdir(domain_dir)\n",
    "            \n",
    "# download the subset archive\n",
    "print('Downloading domain from subset.cuahsi.org')\n",
    "archive_name = wget.download(domain_archive)\n",
    "\n",
    "# untar the archive\n",
    "print('Extracting archive contents')\n",
    "tar = tarfile.open(archive_name)\n",
    "tar.extractall()\n",
    "tar.close()\n",
    "\n",
    "# move the domain files into the DOMAIN directory\n",
    "print('Organizing domain data')\n",
    "extracted_folder = archive_name.split('.')[0]\n",
    "for f in glob.glob(os.path.join(extracted_folder, '*')):\n",
    "    shutil.move(f, domain_dir)\n",
    "\n",
    "print('Cleaning up')\n",
    "os.remove(archive_name)\n",
    "shutil.rmtree(extracted_folder)\n"
   ]
  },
  {
   "cell_type": "markdown",
   "metadata": {},
   "source": [
    "### Step 4.  \n",
    "View the contents of `DOMAIN` to see the files that were downloaded. "
   ]
  },
  {
   "cell_type": "code",
   "execution_count": null,
   "metadata": {},
   "outputs": [],
   "source": [
    "# look at the DOMAIN data what was downloaded\n",
    "!du -h DOMAIN/*"
   ]
  },
  {
   "cell_type": "markdown",
   "metadata": {},
   "source": [
    "Look at the metadata in the `Fulldom_hires.nc`, just for fun."
   ]
  },
  {
   "cell_type": "code",
   "execution_count": null,
   "metadata": {},
   "outputs": [],
   "source": [
    "!ncdump -h DOMAIN/Fulldom_hires.nc"
   ]
  },
  {
   "cell_type": "markdown",
   "metadata": {},
   "source": [
    "You have now successfully subsetted the domain data for running the WRF-Hydro model using the National Water Model Hydro-Fabric. The next notebook will walk you through the process of collecting and preparing meteorological forcing data: [WRFHydro-Forcing.ipynb](./WRFHydro-Forcing.ipynb)\n",
    "    "
   ]
  },
  {
   "cell_type": "code",
   "execution_count": null,
   "metadata": {},
   "outputs": [],
   "source": []
  }
 ],
 "metadata": {
  "kernelspec": {
   "display_name": "Python 3",
   "language": "python",
   "name": "python3"
  },
  "language_info": {
   "codemirror_mode": {
    "name": "ipython",
    "version": 3
   },
   "file_extension": ".py",
   "mimetype": "text/x-python",
   "name": "python",
   "nbconvert_exporter": "python",
   "pygments_lexer": "ipython3",
   "version": "3.6.7"
  }
 },
 "nbformat": 4,
 "nbformat_minor": 2
}
